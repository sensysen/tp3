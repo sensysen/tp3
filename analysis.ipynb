{
 "cells": [
  {
   "cell_type": "markdown",
   "metadata": {},
   "source": [
    "## Imports"
   ]
  },
  {
   "cell_type": "code",
   "execution_count": 78,
   "metadata": {},
   "outputs": [],
   "source": [
    "import seaborn as sns\n",
    "import matplotlib.pyplot as plt\n",
    "import plotly.express as px\n",
    "import plotly.graph_objects as go\n",
    "from plotly.subplots import make_subplots\n",
    "import pandas as pd"
   ]
  },
  {
   "cell_type": "code",
   "execution_count": 79,
   "metadata": {},
   "outputs": [],
   "source": [
    "# TODO: Indiquez votre nom, matricule et numéro d'équipe\n",
    "\n",
    "__authors__ = \"John Doe (2345678) and Jane Doe (3456789)\"\n",
    "__team__ = \"99\""
   ]
  },
  {
   "cell_type": "markdown",
   "metadata": {},
   "source": [
    "## Préparation du dataset"
   ]
  },
  {
   "cell_type": "markdown",
   "metadata": {},
   "source": [
    "### 1.0 Chargement des données"
   ]
  },
  {
   "cell_type": "code",
   "execution_count": 80,
   "metadata": {},
   "outputs": [],
   "source": [
    "from constants import DATA_PATH\n",
    "\n",
    "def create_pokedex() -> pd.DataFrame:\n",
    "    \"\"\" \n",
    "    Lire le fichier csv dans DATA_PATH et retourner un DataFrame contenant les données du fichier csv.\n",
    "\n",
    "    @return: DataFrame contenant les données du fichier csv.\n",
    "    \"\"\"\n",
    "    pass"
   ]
  },
  {
   "cell_type": "code",
   "execution_count": 81,
   "metadata": {},
   "outputs": [],
   "source": [
    "pokedex = create_pokedex()\n",
    "pokedex"
   ]
  },
  {
   "cell_type": "code",
   "execution_count": 82,
   "metadata": {},
   "outputs": [],
   "source": [
    "# TODO: Afficher les 5 premières lignes du DataFrame"
   ]
  },
  {
   "cell_type": "markdown",
   "metadata": {
    "collapsed": false
   },
   "source": [
    "### 1.1 Suppression des colonnes non pertinentes"
   ]
  },
  {
   "cell_type": "code",
   "execution_count": 83,
   "metadata": {},
   "outputs": [],
   "source": [
    "def filter_columns(df: pd.DataFrame) -> None:\n",
    "    \"\"\"\n",
    "    Filtre les colonnes du DataFrame passé en paramètre pour ne garder que les colonnes utiles (voir README.md)\n",
    "    L'opération est faite inplace (le DataFrame est modifié directement sans être retourné).\n",
    "    \n",
    "    @param df: Le DataFrame à filtrer.\n",
    "    \"\"\"\n",
    "    pass"
   ]
  },
  {
   "cell_type": "code",
   "execution_count": 84,
   "metadata": {},
   "outputs": [],
   "source": [
    "filter_columns(pokedex)\n",
    "pokedex"
   ]
  },
  {
   "cell_type": "markdown",
   "metadata": {
    "collapsed": false
   },
   "source": [
    "### 1.2 Renommage des colonnes restantes\n"
   ]
  },
  {
   "cell_type": "code",
   "execution_count": 85,
   "metadata": {},
   "outputs": [],
   "source": [
    "def rename_columns(df: pd.DataFrame) -> None:\n",
    "    \"\"\"\n",
    "    Renomme les colonnes du DataFrame passé en paramètre pour les rendre plus lisibles (voir README.md).\n",
    "    L'opération est faite inplace.\n",
    "\n",
    "    @param df: Le DataFrame à renommer.\n",
    "    \"\"\"\n",
    "    pass"
   ]
  },
  {
   "cell_type": "code",
   "execution_count": 86,
   "metadata": {},
   "outputs": [],
   "source": [
    "rename_columns(pokedex)\n",
    "pokedex"
   ]
  },
  {
   "cell_type": "markdown",
   "metadata": {
    "collapsed": false
   },
   "source": [
    "### 1.3. Nettoyage des données"
   ]
  },
  {
   "cell_type": "code",
   "execution_count": 87,
   "metadata": {},
   "outputs": [],
   "source": [
    "def clean_data(df: pd.DataFrame) -> None:\n",
    "    \"\"\" \n",
    "    Nettoie les données du DataFrame passé en paramètre pour les rendre plus lisibles (voir README.md).\n",
    "    - Supprime les doublons\n",
    "    - Supprime les lignes ayant des valeurs manquantes (sauf pour la colonne 'Secondary Type')\n",
    "    - Réinitialise les index\n",
    "    Les opérations sont faites inplace.\n",
    "\n",
    "    @param df: Le DataFrame à nettoyer.\n",
    "    \"\"\"\n",
    "    pass"
   ]
  },
  {
   "cell_type": "code",
   "execution_count": 88,
   "metadata": {},
   "outputs": [],
   "source": [
    "clean_data(pokedex)\n",
    "pokedex"
   ]
  },
  {
   "cell_type": "code",
   "execution_count": 89,
   "metadata": {},
   "outputs": [],
   "source": [
    "# Permet de vérifier les types de chaque colonne\n",
    "# TODO: Décommenter la ligne suivante lorsque vous avez terminé la fonction clean_data\n",
    "# pokedex.info()"
   ]
  },
  {
   "cell_type": "markdown",
   "metadata": {},
   "source": [
    "### 1.4 Correction des types de données"
   ]
  },
  {
   "cell_type": "code",
   "execution_count": 90,
   "metadata": {},
   "outputs": [],
   "source": [
    "def correct_columns_types(df) -> None:\n",
    "    \"\"\"\n",
    "    Corrige les types des colonnes du DataFrame passé en paramètre (voir README.md).\n",
    "    Les opérations sont faites inplace.\n",
    "\n",
    "    @param df: Le DataFrame dont les types des colonnes doivent être corrigés.\n",
    "    \"\"\"\n",
    "    pass"
   ]
  },
  {
   "cell_type": "code",
   "execution_count": 91,
   "metadata": {},
   "outputs": [],
   "source": [
    "correct_columns_types(pokedex)\n",
    "pokedex"
   ]
  },
  {
   "cell_type": "code",
   "execution_count": 92,
   "metadata": {},
   "outputs": [],
   "source": [
    "# Permet de vérifier que les types des colonnes ont bien été corrigés\n",
    "# TODO: Décommenter la ligne suivante lorsque vous avez terminé la fonction correct_columns_types\n",
    "# pokedex.info()"
   ]
  },
  {
   "cell_type": "markdown",
   "metadata": {},
   "source": [
    "### 1.5 Ajout d'une colonne"
   ]
  },
  {
   "cell_type": "code",
   "execution_count": 93,
   "metadata": {},
   "outputs": [],
   "source": [
    "def add_agility_column(df: pd.DataFrame) -> None:\n",
    "    \"\"\"\n",
    "    Ajoute une colonne 'Agility' au DataFrame passé en paramètre.\n",
    "    La colonne 'Agility' est calculée en divisant la vitesse par le poids.\n",
    "\n",
    "    @param df: Le DataFrame auquel ajouter la colonne 'Agility'.\n",
    "    \"\"\"\n",
    "    pass"
   ]
  },
  {
   "cell_type": "code",
   "execution_count": 94,
   "metadata": {},
   "outputs": [],
   "source": [
    "add_agility_column(pokedex)\n",
    "pokedex"
   ]
  },
  {
   "cell_type": "markdown",
   "metadata": {},
   "source": [
    "## Visualisation de données"
   ]
  },
  {
   "cell_type": "markdown",
   "metadata": {},
   "source": [
    "### 1.6 Le Spectre des Types"
   ]
  },
  {
   "cell_type": "code",
   "execution_count": 95,
   "metadata": {},
   "outputs": [],
   "source": [
    "def display_types_pie_chart(df: pd.DataFrame) -> None:\n",
    "    \"\"\"\n",
    "    Affiche un pie chart représentant la distribution des types primaires de Pokémon.\n",
    "\n",
    "    @param df: Le DataFrame contenant les données à afficher.\n",
    "    \"\"\"\n",
    "    pass\n",
    "    \n",
    "display_types_pie_chart(pokedex)"
   ]
  },
  {
   "cell_type": "markdown",
   "metadata": {},
   "source": [
    "### 1.7 Le Grand Recensement"
   ]
  },
  {
   "cell_type": "code",
   "execution_count": 96,
   "metadata": {},
   "outputs": [],
   "source": [
    "def display_generation_histogram(df: pd.DataFrame) -> None:\n",
    "    \"\"\"\n",
    "    Affiche un histogramme représentant le nombre de Pokémon par génération,\n",
    "    en distinguant les Pokémon Légendaires et Non-Légendaires.\n",
    "\n",
    "    @param df: Le DataFrame contenant les données à afficher.\n",
    "    \"\"\"\n",
    "    pass\n",
    "\n",
    "display_generation_histogram(pokedex)"
   ]
  },
  {
   "cell_type": "markdown",
   "metadata": {},
   "source": [
    "### 1.8 L'Ascension Générationnelle"
   ]
  },
  {
   "cell_type": "code",
   "execution_count": 97,
   "metadata": {},
   "outputs": [],
   "source": [
    "def display_stats_evolution(df: pd.DataFrame) -> None:\n",
    "    \"\"\"\n",
    "    Affiche un graphique représentant l'évolution des statistiques moyennes des Pokémon par génération.\n",
    "\n",
    "    @param df: Le DataFrame contenant les données à afficher.\n",
    "    \"\"\"\n",
    "    pass\n",
    "\n",
    "display_stats_evolution(pokedex)"
   ]
  },
  {
   "cell_type": "markdown",
   "metadata": {},
   "source": [
    "### 1.9 Le Radar des Éléments\n"
   ]
  },
  {
   "cell_type": "code",
   "execution_count": 98,
   "metadata": {},
   "outputs": [],
   "source": [
    "def display_types_radar_charts(df: pd.DataFrame) -> None:\n",
    "    \"\"\"\n",
    "    Affiche un radar chart représentant les statistiques moyennes des Pokémon par type.\n",
    "\n",
    "    @param df: Le DataFrame contenant les données à afficher.\n",
    "    \"\"\"\n",
    "    pass\n",
    "\n",
    "display_types_radar_charts(pokedex)"
   ]
  },
  {
   "cell_type": "markdown",
   "metadata": {},
   "source": []
  },
  {
   "cell_type": "markdown",
   "metadata": {},
   "source": [
    "## Filtrage, tri et agrégation"
   ]
  },
  {
   "cell_type": "markdown",
   "metadata": {},
   "source": [
    "### 1.10 Le Panthéon des Spécialistes"
   ]
  },
  {
   "cell_type": "code",
   "execution_count": 99,
   "metadata": {},
   "outputs": [],
   "source": [
    "from IPython.display import display\n",
    "\n",
    "def display_best_pokemon(df: pd.DataFrame) -> None:\n",
    "    \"\"\"\n",
    "    Affiche les 5 meilleurs Pokémon pour chaque statistique (voir README.md).\n",
    "\n",
    "    @param df: Le DataFrame contenant les données à afficher.\n",
    "    \"\"\"\n",
    "    pass\n",
    "\n",
    "display_best_pokemon(pokedex)"
   ]
  },
  {
   "cell_type": "markdown",
   "metadata": {},
   "source": [
    "### 1.11 Les Liens Invisibles\n"
   ]
  },
  {
   "cell_type": "code",
   "execution_count": 100,
   "metadata": {},
   "outputs": [],
   "source": [
    "def display_stats_heatmap(df: pd.DataFrame) -> None:\n",
    "    \"\"\"\n",
    "    Affiche une heatmap représentant la matrice de corrélation entre les statistiques des Pokémon.\n",
    "\n",
    "    @param df: Le DataFrame contenant les données à afficher.\n",
    "    \"\"\"\n",
    "    pass\n",
    "\n",
    "display_stats_heatmap(pokedex)"
   ]
  },
  {
   "cell_type": "markdown",
   "metadata": {},
   "source": [
    "### 1.12 Exploration Créative (Bonus)"
   ]
  },
  {
   "cell_type": "code",
   "execution_count": 101,
   "metadata": {},
   "outputs": [],
   "source": [
    "def display_my_unique_visualization(df: pd.DataFrame) -> None:\n",
    "    \"\"\"\n",
    "    #TODO: Décrire ce que cette fonction est censée afficher,\n",
    "\n",
    "    #TODO: Expliquer brièvement comment cette visualisation pourrait être utilisée pour guider ou informer un dresseur dans ses aventures.\n",
    "    \"\"\"\n",
    "    pass\n",
    "\n",
    "display_my_unique_visualization(pokedex)"
   ]
  }
 ],
 "metadata": {
  "kernelspec": {
   "display_name": "venv",
   "language": "python",
   "name": "python3"
  },
  "language_info": {
   "codemirror_mode": {
    "name": "ipython",
    "version": 3
   },
   "file_extension": ".py",
   "mimetype": "text/x-python",
   "name": "python",
   "nbconvert_exporter": "python",
   "pygments_lexer": "ipython3",
   "version": "3.11.0"
  }
 },
 "nbformat": 4,
 "nbformat_minor": 2
}
